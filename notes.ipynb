# Some helpful functions in Python:
1/. __lst.index(some_elem)__ gives index of the element

2/. 
